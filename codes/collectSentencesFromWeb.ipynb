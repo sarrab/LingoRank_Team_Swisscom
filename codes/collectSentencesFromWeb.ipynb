{
  "nbformat": 4,
  "nbformat_minor": 0,
  "metadata": {
    "colab": {
      "name": "Untitled0.ipynb",
      "provenance": [],
      "toc_visible": true
    },
    "kernelspec": {
      "name": "python3",
      "display_name": "Python 3"
    }
  },
  "cells": [
    {
      "cell_type": "code",
      "metadata": {
        "id": "YwdVW73Iod1T"
      },
      "source": [
        "import requests\r\n",
        "\r\n",
        "url = 'https://lingua.com/french/reading/vie/'\r\n",
        "res = requests.get(url)\r\n",
        "html_page = res.content"
      ],
      "execution_count": 1,
      "outputs": []
    },
    {
      "cell_type": "code",
      "metadata": {
        "id": "3qU4DB0Jojf9"
      },
      "source": [
        "\r\n",
        "from bs4 import BeautifulSoup\r\n",
        "\r\n",
        "soup = BeautifulSoup(html_page, 'html.parser')"
      ],
      "execution_count": 2,
      "outputs": []
    },
    {
      "cell_type": "code",
      "metadata": {
        "id": "ZWWj-qK_ooMg"
      },
      "source": [
        "text = soup.find_all(text=True)"
      ],
      "execution_count": 3,
      "outputs": []
    },
    {
      "cell_type": "code",
      "metadata": {
        "colab": {
          "base_uri": "https://localhost:8080/"
        },
        "id": "AxppU2Fyos5k",
        "outputId": "304f5958-b037-4fe6-fa65-d44b8204f60a"
      },
      "source": [
        "set([t.parent.name for t in text])\r\n",
        "\r\n",
        "# {'label', 'h4', 'ol', '[document]', 'a', 'h1', 'noscript', 'span', 'header', 'ul', 'html', 'section', 'article', 'em', 'meta', 'title', 'body', 'aside', 'footer', 'div', 'form', 'nav', 'p', 'head', 'link', 'strong', 'h6', 'br', 'li', 'h3', 'h5', 'input', 'blockquote', 'main', 'script', 'figure'}"
      ],
      "execution_count": 4,
      "outputs": [
        {
          "output_type": "execute_result",
          "data": {
            "text/plain": [
              "{'[document]',\n",
              " 'a',\n",
              " 'div',\n",
              " 'h1',\n",
              " 'h2',\n",
              " 'head',\n",
              " 'html',\n",
              " 'link',\n",
              " 'p',\n",
              " 'script',\n",
              " 'span',\n",
              " 'svg',\n",
              " 'title'}"
            ]
          },
          "metadata": {
            "tags": []
          },
          "execution_count": 4
        }
      ]
    },
    {
      "cell_type": "code",
      "metadata": {
        "id": "9TI2IS6TrZFc"
      },
      "source": [
        "output = ''\r\n",
        "blacklist = [\r\n",
        "    '[document]',\r\n",
        "\r\n",
        "   'noscript',\r\n",
        "    'header',\r\n",
        "    'html',\r\n",
        "    'meta',\r\n",
        "    'head', \r\n",
        "    'input',\r\n",
        "    'script',\r\n",
        "    'link',\r\n",
        "    'h1',\r\n",
        "    'h2',\r\n",
        "    'svg',\r\n",
        "    \r\n",
        "    # there may be more elements you don't want, such as \"style\", etc.\r\n",
        "]\r\n",
        "\r\n",
        "for t in text:\r\n",
        "    if t.parent.name not in blacklist:\r\n",
        "        output += '{} '.format(t)"
      ],
      "execution_count": 5,
      "outputs": []
    },
    {
      "cell_type": "code",
      "metadata": {
        "id": "yZmiUzS4rgOk"
      },
      "source": [
        "import requests\r\n",
        "\r\n",
        "output = ''\r\n",
        "blacklist = [\r\n",
        "   '[document]',\r\n",
        "   'noscript',\r\n",
        "    'header',\r\n",
        "    'html',\r\n",
        "    'meta',\r\n",
        "    'head', \r\n",
        "    'input',\r\n",
        "    'script',\r\n",
        "    'link',\r\n",
        "    'svg',\r\n",
        "    'title',\r\n",
        "    'a',\r\n",
        "    'h1',\r\n",
        "    'h2',\r\n",
        "    '[document]',\r\n",
        " 'a',\r\n",
        " 'div',\r\n",
        " 'h1',\r\n",
        " 'h2',\r\n",
        " 'head',\r\n",
        " 'html',\r\n",
        " 'link',\r\n",
        " 'script',\r\n",
        " 'span',\r\n",
        " 'svg',\r\n",
        " 'title',\r\n",
        " 'style'\r\n",
        "    # there may be more elements you don't want, such as \"style\", etc.\r\n",
        "]\r\n",
        "\r\n",
        "a1_urls = ['https://lingua.com/french/reading/comment-vas-tu/','https://lingua.com/french/reading/voyage/','https://lingua.com/french/reading/rencontre/','https://lingua.com/french/reading/presentation/',\r\n",
        "           'https://parlez-vous-french.com/histoire-de-noel-la-legende-du-sapin/','https://french.kwiziq.com/learn/reading/cher-journal']\r\n",
        "a2_urls = ['https://lingua.com/french/reading/restaurant/','https://lingua.com/french/reading/jours/','https://lingua.com/french/reading/routine-quotidienne/',\r\n",
        "           'https://lingua.com/french/reading/centre-commercial/','https://parlez-vous-french.com/le-berger-et-le-dragon/','https://parlez-vous-french.com/histoire-audio-le-vrai-heritier/',\r\n",
        "           'https://french.kwiziq.com/learn/reading/hajj','https://french.kwiziq.com/learn/reading/le-festival-du-cinema-americain-de-deauville']\r\n",
        "b1_urls = ['https://lingua.com/french/reading/vetements/','https://lingua.com/french/reading/meteo/','https://lingua.com/french/reading/paques/',\r\n",
        "           'https://parlez-vous-french.com/hospitalite-du-pacha/','https://parlez-vous-french.com/histoire-audio-les-trois-souhaits/',\r\n",
        "           'https://french.kwiziq.com/learn/reading/apres-le-coronavirus','https://french.kwiziq.com/learn/reading/6-juin-1944-voyage-a-travers-le-temps',\r\n",
        "           'https://lingua.com/french/reading/maison-de-ben/','https://parlez-vous-french.com/histoire-audio-la-mauvaise-femme/']\r\n",
        "b2_urls = ['https://lingua.com/french/reading/lyon/','https://lingua.com/french/reading/noel-en-france/',\r\n",
        "           'https://french.kwiziq.com/learn/reading/allo-les-urgences-veterinaires','https://french.kwiziq.com/learn/reading/assomption',\r\n",
        "           'https://french.kwiziq.com/learn/reading/visite-de-la-cote-fleurie-normandie',\r\n",
        "           'https://parlez-vous-french.com/la-conquete/','https://parlez-vous-french.com/le-pecheur-et-le-voyageur/','https://parlez-vous-french.com/ma-femme/'\r\n",
        "           'https://french.kwiziq.com/learn/reading/comment-preparer-son-bagage-en-cabine']\r\n",
        "for url in b2_urls :\r\n",
        "  res = requests.get(url)\r\n",
        "  html_page = res.content\r\n",
        "  from bs4 import BeautifulSoup\r\n",
        "\r\n",
        "  soup = BeautifulSoup(html_page, 'html.parser')\r\n",
        "  text = soup.find_all(text=True)\r\n",
        "\r\n",
        "\r\n",
        "\r\n",
        "  for t in text:\r\n",
        "      if t.parent.name not in blacklist:\r\n",
        "          output += '{} '.format(t)\r\n",
        "\r\n"
      ],
      "execution_count": 6,
      "outputs": []
    },
    {
      "cell_type": "markdown",
      "metadata": {
        "id": "S4t03PEAi1K9"
      },
      "source": [
        "# New section"
      ]
    },
    {
      "cell_type": "code",
      "metadata": {
        "colab": {
          "base_uri": "https://localhost:8080/"
        },
        "id": "ypUv9yJTFMCM",
        "outputId": "2af01ff1-1983-4810-abd1-69e85e4bc2d9"
      },
      "source": [
        "import nltk\r\n",
        "from nltk import sent_tokenize\r\n",
        "\r\n",
        "nltk.download('punkt')\r\n",
        " \r\n",
        "\r\n"
      ],
      "execution_count": 7,
      "outputs": [
        {
          "output_type": "stream",
          "text": [
            "[nltk_data] Downloading package punkt to /root/nltk_data...\n",
            "[nltk_data]   Package punkt is already up-to-date!\n"
          ],
          "name": "stdout"
        },
        {
          "output_type": "execute_result",
          "data": {
            "text/plain": [
              "True"
            ]
          },
          "metadata": {
            "tags": []
          },
          "execution_count": 7
        }
      ]
    },
    {
      "cell_type": "code",
      "metadata": {
        "id": "JwRqKcgTFN3h"
      },
      "source": [
        "output = sent_tokenize(output)\r\n",
        "\r\n"
      ],
      "execution_count": 8,
      "outputs": []
    },
    {
      "cell_type": "code",
      "metadata": {
        "id": "NHHfdtSEARtc"
      },
      "source": [
        "import pandas as pd\r\n",
        "import os\r\n",
        "# if file does not exist write header \r\n",
        "if not os.path.isfile('B2List.csv'):\r\n",
        "  df = pd.DataFrame(output, columns=[\"Text\"])\r\n",
        "  df['Anootation 1'] = 'B2'\r\n",
        "  df.to_csv('B2list.csv', index=False)\r\n",
        "else: # else it exists so append without writing the header\r\n",
        "   df.to_csv('B2list.csv', mode='a', header=False)\r\n"
      ],
      "execution_count": 9,
      "outputs": []
    },
    {
      "cell_type": "code",
      "metadata": {
        "id": "ZfPnwCOXcI10",
        "colab": {
          "base_uri": "https://localhost:8080/"
        },
        "outputId": "4072af71-d095-4805-fe09-bacf87ef34f7"
      },
      "source": [
        "fp = open(\"EspritArticles.txt\")\r\n",
        "data = fp.read()\r\n",
        "data = sent_tokenize(data)\r\n",
        "data\r\n"
      ],
      "execution_count": 21,
      "outputs": [
        {
          "output_type": "execute_result",
          "data": {
            "text/plain": [
              "['L’épidémie de coronavirus nous contraint à éprouver l’incertain de nos existences comme une dégradation provisoire.',\n",
              " 'Ne faut-il pas plutôt, sur un mode pascalien, y voir notre condition même ?',\n",
              " 'C’est ce que tâcherait de concevoir une pensée véritablement complexe, inspirée d’Edgar Morin, qui aurait conscience des liens unissant chaque chose.',\n",
              " 'En ces temps où un virus soumet nos existences, déjoue nos projets, crée partout un climat d’incertitude, le hasard a voulu que je trouve quelque lumière dans les pages de Pascal sur la « disproportion de l’homme » (Pensées, Brunschvicg, 72), ce texte que chacun a lu une fois dans sa jeunesse, jamais médité depuis : « Voilà où nous mènent les connaissances naturelles.',\n",
              " 'Si celles-là ne sont véritables, il n’y a point de vérité dans l’homme et si elles le sont, l’homme trouve un grand sujet d’humiliation, forcé à s’abaisser d’une manière ou d’une autre.',\n",
              " 'Et puisqu’il ne peut subsister sans les croire, je souhaite qu’avant que d’entrer dans de plus grandes recherches de la nature, qu’il la considère une fois sérieusement et à loisir, qu’il se regarde aussi soi-même… » Un peu plus loin encore : « Car enfin qu’est-ce que l’homme dans la nature ?',\n",
              " 'Un néant à l’égard de l’infini, un tout à l’égard du néant, un milieu entre rien et tout, infiniment éloigné de comprendre les extrêmes… »\\n\\nNotre Pascal est celui de l’homme situé entre deux infinis, mélange de folie et de sagesse.',\n",
              " 'Je n’ose aller jusqu’à voir Pascal en précurseur de l’écologie.',\n",
              " 'Il est frappant, cependant, de constater dans ces pages comme le mot « nature » est le leitmotiv, et que le mot « milieu », qu’on préfère aujourd’hui à celui d’environnement, est celui qui convient à l’homme : « Nous voguons sur un milieu vaste, toujours incertains et flottants, poussés d’un bout vers l’autre ; quelque terme où nous pensions nous attacher ou nous affermir, il branle et nous quitte… Rien ne s’arrête pour nous.',\n",
              " 'C’est l’état qui nous est naturel, et toutefois le plus contraire à notre inclination.',\n",
              " 'Nous brûlons de trouver une assiette ferme, et une dernière base constante pour y édifier une tour qui s’élève à l’infini, mais tout notre fondement craque, et la terre s’ouvre jusqu’aux abîmes.',\n",
              " 'Ne cherchons donc point d’assurance et de fermeté.',\n",
              " 'Cela étant bien compris, je crois qu’on se tiendra en repos… »\\n\\nComme Pascal, Edgar Morin cherche à désarçonner le rationaliste qui, au plein de la crise actuelle de notre rapport à la nature, ne doute ni de ses démarches ni de sa volonté d’imposer son ordre.',\n",
              " 'Pascal : « Nous courons sans souci dans le précipice, après que nous avons mis quelque chose devant nous pour nous empêcher de le voir » (Pensées, Br., 183).',\n",
              " 'Morin : « Notre mode de connaissance parcellisée prédit des ignorances globales.',\n",
              " 'Notre mode de pensée mutilé conduit à des actions mutilantes1.',\n",
              " '»\\n\\nLes efforts des derniers siècles pour réduire l’incertitude n’ont pas cessé en Europe.',\n",
              " 'Nous bénéficions tous de la couverture de toutes sortes de bienfaisantes et ingénieuses assurances, mais plus nous avançons, plus le combat contre la précarité s’impose à nouveau.',\n",
              " 'En fin de parcours, plus nous sommes à l’abri, plus nous nous retrouvons devant de grandes incertitudes.',\n",
              " 'L’épidémie actuelle nous contraint à éprouver l’incertain pour ce que nous croyons être un moment, mais n’est-il pas notre condition même ?',\n",
              " 'Pour Morin, notre mode de connaissance « se borne à prévoir le probable quand surgit sans cesse l’inattendu2 ».',\n",
              " 'Nous passons notre temps à établir, désétablir.',\n",
              " 'En fait, Morin nous demande de retourner le miroir, ce que nous n’aimons guère ; nous verrions alors que « ce n’est pas la nature qui nous appartient, c’est nous qui lui appartenons.',\n",
              " '[…] Nous sommes des joueurs/joués3 ».',\n",
              " 'Nos techniques et nos actions ne cessent d’engendrer des effets imprévisibles, souvent contraires à nos intentions.',\n",
              " 'Est-il exorbitant de prétendre qu’un mode de pensée qui accepte l’incertain soit devenu hors jeu ?',\n",
              " 'Ne déconcerte-t-il pas notre rationalisme ?',\n",
              " 'Notre mode de pensée, de connaissance, qui ne pousse pas à prévoir les conséquences, nous dessert, puisque la contingence et les autres viennent sans cesse contrecarrer nos prévisions, nos volontés.',\n",
              " '« Nous devons prendre conscience du paradoxe qui fait que l’accroissement de notre puissance va de pair avec l’accroissement de notre débilité4.',\n",
              " '»\\n\\nLa pensée complexe est celle qui relie les choses séparées.',\n",
              " '« L’écologie est une pensée complexe qui contextualise toujours et toujours saisit les interactions et les rétroactions.',\n",
              " 'Parmi ceux qui la comprennent le mieux, les biologistes et les géographes.',\n",
              " 'L’écosystème s’auto-organise, il y a une combinaison des relations.',\n",
              " '[…] En fait, j’associe la réintroduction de l’incertitude et la réintroduction de la complexité.',\n",
              " '» Moi-même, je suis séduit par la coincidentia oppositorum, la nécessité de maintenir ensemble les contraires.',\n",
              " 'Mieux vaut les laisser exprimer leurs paradoxes que les méconnaître.',\n",
              " 'En voici un des moins obscurs : « Plus nous devenons maîtres de la biosphère, plus nous en devenons dépendants ; plus nous la dégradons, plus nous dégradons nos vies5.',\n",
              " '» Et, pour finir, cet aphorisme redoutable, maître-mot de la pensée de la complexité : « Tout ce qui isole un objet détruit sa réalité même6.',\n",
              " '»\\nNé en 1887 dans l’Empire austro-hongrois, serrurier de formation et poète par passion, Lajos Kassák est écrivain, peintre et fondateur de revues de l’avant-garde hongroise.',\n",
              " 'Avant d’accéder à cette reconnaissance, il est, en 1909, un vagabond européen.',\n",
              " 'Vagabonder ou vaguer, c’est-à-dire errer ici et là, fait l’objet d’une stigmatisation et d’une criminalisation progressive depuis la fin du Moyen Âge1, mais est aussi une expérience de l’éloignement du chez-soi et de ses pesantes habitudes prisée par les poètes.',\n",
              " 'Avant Jack Kerouac, mais après François Villon, Lajos Kassák affronte les espaces ouverts, de Budapest à Paris en passant par l’Allemagne et la Belgique, et s’en souvient en 1927, lorsqu’il entreprend son autobiographie.',\n",
              " 'Bien que parti sans le sou, le vagabond n’est pas, comme on pourrait le penser, un être démuni.',\n",
              " 'Sans jamais préciser comment il s’approvisionne en papier, Kassák dessine, prend des notes et surtout écrit des poèmes qu’il envoie aux rédactions de journaux via une amie restée à Budapest.',\n",
              " 'Homme de réseaux, le vagabond n’a pas coupé les liens avec le pays, qu’il maintient grâce au solide maillage des postes européennes.',\n",
              " 'Il s’insère ensuite dans un autre réseau, tissé au fur et à mesure du voyage : celui des vagabonds, fait de routes, d’asiles et de rencontres.',\n",
              " 'Les arêtes de ce réseau sont les chemins parcourus, qui esquintent les pieds et abîment l’allure ; les nœuds se composent des lieux d’accueil, où les vagabonds aspirent au repos physique et moral, mais qu’ils obtiennent rarement.',\n",
              " 'Kassák témoigne du lourd protocole d’admission aux asiles de nuit, lieux de charité recherchés, tant la perspective d’une nuit sans toit sur la tête est éprouvante, mais aussi craints pour les mauvais traitements qu’on y subit.',\n",
              " 'L’asile est le creuset terrible où se forge l’identité du vagabond.',\n",
              " 'Lieu de rencontres, les logés y prennent conscience du caractère collectif de la condition vagabonde.',\n",
              " 'Bien que revendiquée des poètes par goût pour la bohème, la marginalité de ce mode de vie est aussi assignée et subie lors de rituels d’accueil dégradants et déshumanisants : toilette collective, mauvaise nourriture, linge d’une hygiène douteuse, mais aussi le froid, la faim, la promiscuité et les insultes… Les effets psychologiques de la mise à nu des corps fatigués et surtout la peur de la dépossession des maigres biens portés à même le corps éloignent les aidants et des aidés.',\n",
              " 'Peu de gratitude anime Kassák.',\n",
              " 'Ce réseau, enfin, prend vie par ceux qui le parcourent et qui l’infléchissent en échangeant recommandations et avertissements sur les chemins à suivre, et ceux à éviter.',\n",
              " 'Certains vagabonds tiennent minutieusement leur propre guide de voyage et monnayent leurs informations.',\n",
              " 'Les compagnonnages noués entre voyageurs se révèlent parfois pesants et Kassák finit par se fâcher avec son premier acolyte, le sculpteur Gödrös, dont la mauvaise maîtrise de l’allemand l’agace.',\n",
              " 'L’auteur évoque l’insouciance des journées passées avec la panse pleine et sa conviction, acquise dans le monde du vagabondage, que le travail régulier, dégradant, ne fera plus jamais partie de son mode de vie.',\n",
              " 'Il ne passe cependant pas sous silence les difficultés matérielles d’un voyage mené avec les seules ressources de la mendicité.',\n",
              " 'Le détachement procuré par le statut de voyageur facilite-t-il la transgression des normes, légales ou morales, auxquelles est tenu un individu avec domicile fixe ?',\n",
              " 'C’est ce que suggère Kassák, qui dévoile, parmi les combines apprises pour vivre, le recours au mensonge.',\n",
              " 'Occasionnellement, Kassák ment sur ses intentions, sa profession ou sa confession ; il se dit ainsi juif pour bénéficier d’une caisse d’entraide juive (autre réseau élaboré à l’échelle européenne) et manque de se faire démasquer lorsqu’il tient son livre de prières à l’envers ou peine à retenir les quelques lignes de prière apprises phonétiquement.',\n",
              " 'La violence des vols et des agressions scande l’itinérance d’un vagabond qui fréquente le monde des individus statiques, auquel l’auteur ne se rattache plus, et celui des bas-fonds, qui l’inquiète ou le dégoûte.',\n",
              " 'Asiles, fermes, bistrots, musées s’entrecroisent, dans un mouvement de balancier entre des descriptions sordides et des périodes plus apaisées, fournies par une journée réussie de mendicité ou les excentricités du poète anarchiste Emil Szittya, rencontré à Stuttgart.',\n",
              " 'Le récit s’ordonne par l’accumulation de saynètes, procédé qui donne une tonalité picaresque au parcours, mais qui participe aussi à ancrer les souvenirs d’une mobilité dans des lieux, ne seraient-ils que de passage.',\n",
              " 'Ce réseau de lieux se déploie à l’échelle européenne, non sans rencontrer des barrières linguistiques (l’allemand) ou des frontières difficiles à franchir (le nord de la France).',\n",
              " 'L’espace parcouru, celui des campagnes et des petites bourgades, possède finalement sa cohérence propre et, surtout, s’avère beaucoup plus marquant que l’arrivée à Paris.',\n",
              " 'Horizon rêvé du voyageur hongrois, la capitale française se révèle décevante.',\n",
              " 'Trop concrète peut-être après le temps du rêve… Aucun terminus ne semble, pour l’écrivain, pouvoir justifier d’avoir enduré tant de souffrances, ni inciter à rompre avec le temps du vagabondage.']"
            ]
          },
          "metadata": {
            "tags": []
          },
          "execution_count": 21
        }
      ]
    },
    {
      "cell_type": "code",
      "metadata": {
        "colab": {
          "base_uri": "https://localhost:8080/",
          "height": 415
        },
        "id": "zKVzIuxheQF0",
        "outputId": "1220132e-3c67-4f09-afd5-7322aee9b7d3"
      },
      "source": [
        "df1 = pd.DataFrame(data, columns=[\"Text\"])\r\n",
        "df1['Anootation 1'] = 'C'\r\n",
        "df1\r\n"
      ],
      "execution_count": 22,
      "outputs": [
        {
          "output_type": "execute_result",
          "data": {
            "text/html": [
              "<div>\n",
              "<style scoped>\n",
              "    .dataframe tbody tr th:only-of-type {\n",
              "        vertical-align: middle;\n",
              "    }\n",
              "\n",
              "    .dataframe tbody tr th {\n",
              "        vertical-align: top;\n",
              "    }\n",
              "\n",
              "    .dataframe thead th {\n",
              "        text-align: right;\n",
              "    }\n",
              "</style>\n",
              "<table border=\"1\" class=\"dataframe\">\n",
              "  <thead>\n",
              "    <tr style=\"text-align: right;\">\n",
              "      <th></th>\n",
              "      <th>Text</th>\n",
              "      <th>Anootation 1</th>\n",
              "    </tr>\n",
              "  </thead>\n",
              "  <tbody>\n",
              "    <tr>\n",
              "      <th>0</th>\n",
              "      <td>L’épidémie de coronavirus nous contraint à épr...</td>\n",
              "      <td>C</td>\n",
              "    </tr>\n",
              "    <tr>\n",
              "      <th>1</th>\n",
              "      <td>Ne faut-il pas plutôt, sur un mode pascalien, ...</td>\n",
              "      <td>C</td>\n",
              "    </tr>\n",
              "    <tr>\n",
              "      <th>2</th>\n",
              "      <td>C’est ce que tâcherait de concevoir une pensée...</td>\n",
              "      <td>C</td>\n",
              "    </tr>\n",
              "    <tr>\n",
              "      <th>3</th>\n",
              "      <td>En ces temps où un virus soumet nos existences...</td>\n",
              "      <td>C</td>\n",
              "    </tr>\n",
              "    <tr>\n",
              "      <th>4</th>\n",
              "      <td>Si celles-là ne sont véritables, il n’y a poin...</td>\n",
              "      <td>C</td>\n",
              "    </tr>\n",
              "    <tr>\n",
              "      <th>...</th>\n",
              "      <td>...</td>\n",
              "      <td>...</td>\n",
              "    </tr>\n",
              "    <tr>\n",
              "      <th>62</th>\n",
              "      <td>Le récit s’ordonne par l’accumulation de saynè...</td>\n",
              "      <td>C</td>\n",
              "    </tr>\n",
              "    <tr>\n",
              "      <th>63</th>\n",
              "      <td>Ce réseau de lieux se déploie à l’échelle euro...</td>\n",
              "      <td>C</td>\n",
              "    </tr>\n",
              "    <tr>\n",
              "      <th>64</th>\n",
              "      <td>L’espace parcouru, celui des campagnes et des ...</td>\n",
              "      <td>C</td>\n",
              "    </tr>\n",
              "    <tr>\n",
              "      <th>65</th>\n",
              "      <td>Horizon rêvé du voyageur hongrois, la capitale...</td>\n",
              "      <td>C</td>\n",
              "    </tr>\n",
              "    <tr>\n",
              "      <th>66</th>\n",
              "      <td>Trop concrète peut-être après le temps du rêve...</td>\n",
              "      <td>C</td>\n",
              "    </tr>\n",
              "  </tbody>\n",
              "</table>\n",
              "<p>67 rows × 2 columns</p>\n",
              "</div>"
            ],
            "text/plain": [
              "                                                 Text Anootation 1\n",
              "0   L’épidémie de coronavirus nous contraint à épr...            C\n",
              "1   Ne faut-il pas plutôt, sur un mode pascalien, ...            C\n",
              "2   C’est ce que tâcherait de concevoir une pensée...            C\n",
              "3   En ces temps où un virus soumet nos existences...            C\n",
              "4   Si celles-là ne sont véritables, il n’y a poin...            C\n",
              "..                                                ...          ...\n",
              "62  Le récit s’ordonne par l’accumulation de saynè...            C\n",
              "63  Ce réseau de lieux se déploie à l’échelle euro...            C\n",
              "64  L’espace parcouru, celui des campagnes et des ...            C\n",
              "65  Horizon rêvé du voyageur hongrois, la capitale...            C\n",
              "66  Trop concrète peut-être après le temps du rêve...            C\n",
              "\n",
              "[67 rows x 2 columns]"
            ]
          },
          "metadata": {
            "tags": []
          },
          "execution_count": 22
        }
      ]
    },
    {
      "cell_type": "code",
      "metadata": {
        "id": "U8XGhjrTevC6"
      },
      "source": [
        "df1.to_csv('ArticlesPhilo.csv',  index=False)"
      ],
      "execution_count": 23,
      "outputs": []
    }
  ]
}